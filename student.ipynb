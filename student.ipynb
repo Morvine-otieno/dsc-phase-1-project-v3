{
 "cells": [
  {
   "attachments": {},
   "cell_type": "markdown",
   "metadata": {},
   "source": [
    "## Final Project Submission\n",
    "\n",
    "Please fill out:\n",
    "* Student name: Morvine Awuor Otieno \n",
    "* Student pace: Full Time Remote\n",
    "* Scheduled project review date/time: 4th October 2025\n",
    "* Instructor name: Nikita Njoroge \n",
    "* Blog post URL: [Morvine's LinkedIn Profile](https://www.linkedin.com/in/morvine-otieno-14837a180)\r\n",
    "\n"
   ]
  },
  {
   "cell_type": "markdown",
   "metadata": {},
   "source": [
    "## Aviation Risk Analysis for Aircraft Acquisition"
   ]
  },
  {
   "cell_type": "markdown",
   "metadata": {},
   "source": [
    "### Overview\n",
    "This project focuses on analyzing aviation accident data from 1962 to 2023 to identify aircraft types with the lowest risk profiles. The company is expanding into the aviation industry and needs to make informed decisions about purchasing aircraft for commercial and private operations. The primary stakeholder is the head of the new aviation division, who requires clear insights into aircraft safety to minimize operational risks and guide investment decisions. The project is situated within the aviation sector, specifically targeting risk assessment for aircraft acquisition.\n"
   ]
  },
  {
   "cell_type": "markdown",
   "metadata": {},
   "source": [
    "### Business Understanding\n",
    "\n",
    "The company wants to enter the aviation market but is uncertain about the safety risks associated with different aircraft types. Without data-driven insights, they risk investing in high-risk models that could lead to operational losses or reputational damage.\n"
   ]
  },
  {
   "cell_type": "code",
   "execution_count": 201,
   "metadata": {},
   "outputs": [],
   "source": [
    "import warnings\n",
    "warnings.filterwarnings(\"ignore\", category=FutureWarning)"
   ]
  },
  {
   "cell_type": "code",
   "execution_count": 202,
   "metadata": {},
   "outputs": [],
   "source": [
    "import pandas as pd\n",
    "import numpy as np\n",
    "import os\n",
    "# Load dataset\n",
    "df = pd.read_csv('data/Aviation_Data.csv', low_memory=False)\n"
   ]
  },
  {
   "cell_type": "code",
   "execution_count": 203,
   "metadata": {},
   "outputs": [
    {
     "data": {
      "text/plain": [
       "pandas.core.frame.DataFrame"
      ]
     },
     "execution_count": 203,
     "metadata": {},
     "output_type": "execute_result"
    }
   ],
   "source": [
    "type(df)"
   ]
  },
  {
   "cell_type": "code",
   "execution_count": 204,
   "metadata": {},
   "outputs": [
    {
     "name": "stdout",
     "output_type": "stream",
     "text": [
      "<class 'pandas.core.frame.DataFrame'>\n",
      "RangeIndex: 90348 entries, 0 to 90347\n",
      "Data columns (total 31 columns):\n",
      " #   Column                  Non-Null Count  Dtype  \n",
      "---  ------                  --------------  -----  \n",
      " 0   Event.Id                88889 non-null  object \n",
      " 1   Investigation.Type      90348 non-null  object \n",
      " 2   Accident.Number         88889 non-null  object \n",
      " 3   Event.Date              88889 non-null  object \n",
      " 4   Location                88837 non-null  object \n",
      " 5   Country                 88663 non-null  object \n",
      " 6   Latitude                34382 non-null  object \n",
      " 7   Longitude               34373 non-null  object \n",
      " 8   Airport.Code            50132 non-null  object \n",
      " 9   Airport.Name            52704 non-null  object \n",
      " 10  Injury.Severity         87889 non-null  object \n",
      " 11  Aircraft.damage         85695 non-null  object \n",
      " 12  Aircraft.Category       32287 non-null  object \n",
      " 13  Registration.Number     87507 non-null  object \n",
      " 14  Make                    88826 non-null  object \n",
      " 15  Model                   88797 non-null  object \n",
      " 16  Amateur.Built           88787 non-null  object \n",
      " 17  Number.of.Engines       82805 non-null  float64\n",
      " 18  Engine.Type             81793 non-null  object \n",
      " 19  FAR.Description         32023 non-null  object \n",
      " 20  Schedule                12582 non-null  object \n",
      " 21  Purpose.of.flight       82697 non-null  object \n",
      " 22  Air.carrier             16648 non-null  object \n",
      " 23  Total.Fatal.Injuries    77488 non-null  float64\n",
      " 24  Total.Serious.Injuries  76379 non-null  float64\n",
      " 25  Total.Minor.Injuries    76956 non-null  float64\n",
      " 26  Total.Uninjured         82977 non-null  float64\n",
      " 27  Weather.Condition       84397 non-null  object \n",
      " 28  Broad.phase.of.flight   61724 non-null  object \n",
      " 29  Report.Status           82505 non-null  object \n",
      " 30  Publication.Date        73659 non-null  object \n",
      "dtypes: float64(5), object(26)\n",
      "memory usage: 21.4+ MB\n"
     ]
    }
   ],
   "source": [
    "# Basic info\n",
    "df.info()"
   ]
  },
  {
   "cell_type": "code",
   "execution_count": 205,
   "metadata": {},
   "outputs": [
    {
     "data": {
      "text/html": [
       "<div>\n",
       "<style scoped>\n",
       "    .dataframe tbody tr th:only-of-type {\n",
       "        vertical-align: middle;\n",
       "    }\n",
       "\n",
       "    .dataframe tbody tr th {\n",
       "        vertical-align: top;\n",
       "    }\n",
       "\n",
       "    .dataframe thead th {\n",
       "        text-align: right;\n",
       "    }\n",
       "</style>\n",
       "<table border=\"1\" class=\"dataframe\">\n",
       "  <thead>\n",
       "    <tr style=\"text-align: right;\">\n",
       "      <th></th>\n",
       "      <th>Event.Id</th>\n",
       "      <th>Investigation.Type</th>\n",
       "      <th>Accident.Number</th>\n",
       "      <th>Event.Date</th>\n",
       "      <th>Location</th>\n",
       "      <th>Country</th>\n",
       "      <th>Latitude</th>\n",
       "      <th>Longitude</th>\n",
       "      <th>Airport.Code</th>\n",
       "      <th>Airport.Name</th>\n",
       "      <th>...</th>\n",
       "      <th>Purpose.of.flight</th>\n",
       "      <th>Air.carrier</th>\n",
       "      <th>Total.Fatal.Injuries</th>\n",
       "      <th>Total.Serious.Injuries</th>\n",
       "      <th>Total.Minor.Injuries</th>\n",
       "      <th>Total.Uninjured</th>\n",
       "      <th>Weather.Condition</th>\n",
       "      <th>Broad.phase.of.flight</th>\n",
       "      <th>Report.Status</th>\n",
       "      <th>Publication.Date</th>\n",
       "    </tr>\n",
       "  </thead>\n",
       "  <tbody>\n",
       "    <tr>\n",
       "      <th>0</th>\n",
       "      <td>20001218X45444</td>\n",
       "      <td>Accident</td>\n",
       "      <td>SEA87LA080</td>\n",
       "      <td>1948-10-24</td>\n",
       "      <td>MOOSE CREEK, ID</td>\n",
       "      <td>United States</td>\n",
       "      <td>NaN</td>\n",
       "      <td>NaN</td>\n",
       "      <td>NaN</td>\n",
       "      <td>NaN</td>\n",
       "      <td>...</td>\n",
       "      <td>Personal</td>\n",
       "      <td>NaN</td>\n",
       "      <td>2.0</td>\n",
       "      <td>0.0</td>\n",
       "      <td>0.0</td>\n",
       "      <td>0.0</td>\n",
       "      <td>UNK</td>\n",
       "      <td>Cruise</td>\n",
       "      <td>Probable Cause</td>\n",
       "      <td>NaN</td>\n",
       "    </tr>\n",
       "    <tr>\n",
       "      <th>1</th>\n",
       "      <td>20001218X45447</td>\n",
       "      <td>Accident</td>\n",
       "      <td>LAX94LA336</td>\n",
       "      <td>1962-07-19</td>\n",
       "      <td>BRIDGEPORT, CA</td>\n",
       "      <td>United States</td>\n",
       "      <td>NaN</td>\n",
       "      <td>NaN</td>\n",
       "      <td>NaN</td>\n",
       "      <td>NaN</td>\n",
       "      <td>...</td>\n",
       "      <td>Personal</td>\n",
       "      <td>NaN</td>\n",
       "      <td>4.0</td>\n",
       "      <td>0.0</td>\n",
       "      <td>0.0</td>\n",
       "      <td>0.0</td>\n",
       "      <td>UNK</td>\n",
       "      <td>Unknown</td>\n",
       "      <td>Probable Cause</td>\n",
       "      <td>19-09-1996</td>\n",
       "    </tr>\n",
       "    <tr>\n",
       "      <th>2</th>\n",
       "      <td>20061025X01555</td>\n",
       "      <td>Accident</td>\n",
       "      <td>NYC07LA005</td>\n",
       "      <td>1974-08-30</td>\n",
       "      <td>Saltville, VA</td>\n",
       "      <td>United States</td>\n",
       "      <td>36.922223</td>\n",
       "      <td>-81.878056</td>\n",
       "      <td>NaN</td>\n",
       "      <td>NaN</td>\n",
       "      <td>...</td>\n",
       "      <td>Personal</td>\n",
       "      <td>NaN</td>\n",
       "      <td>3.0</td>\n",
       "      <td>NaN</td>\n",
       "      <td>NaN</td>\n",
       "      <td>NaN</td>\n",
       "      <td>IMC</td>\n",
       "      <td>Cruise</td>\n",
       "      <td>Probable Cause</td>\n",
       "      <td>26-02-2007</td>\n",
       "    </tr>\n",
       "    <tr>\n",
       "      <th>3</th>\n",
       "      <td>20001218X45448</td>\n",
       "      <td>Accident</td>\n",
       "      <td>LAX96LA321</td>\n",
       "      <td>1977-06-19</td>\n",
       "      <td>EUREKA, CA</td>\n",
       "      <td>United States</td>\n",
       "      <td>NaN</td>\n",
       "      <td>NaN</td>\n",
       "      <td>NaN</td>\n",
       "      <td>NaN</td>\n",
       "      <td>...</td>\n",
       "      <td>Personal</td>\n",
       "      <td>NaN</td>\n",
       "      <td>2.0</td>\n",
       "      <td>0.0</td>\n",
       "      <td>0.0</td>\n",
       "      <td>0.0</td>\n",
       "      <td>IMC</td>\n",
       "      <td>Cruise</td>\n",
       "      <td>Probable Cause</td>\n",
       "      <td>12-09-2000</td>\n",
       "    </tr>\n",
       "    <tr>\n",
       "      <th>4</th>\n",
       "      <td>20041105X01764</td>\n",
       "      <td>Accident</td>\n",
       "      <td>CHI79FA064</td>\n",
       "      <td>1979-08-02</td>\n",
       "      <td>Canton, OH</td>\n",
       "      <td>United States</td>\n",
       "      <td>NaN</td>\n",
       "      <td>NaN</td>\n",
       "      <td>NaN</td>\n",
       "      <td>NaN</td>\n",
       "      <td>...</td>\n",
       "      <td>Personal</td>\n",
       "      <td>NaN</td>\n",
       "      <td>1.0</td>\n",
       "      <td>2.0</td>\n",
       "      <td>NaN</td>\n",
       "      <td>0.0</td>\n",
       "      <td>VMC</td>\n",
       "      <td>Approach</td>\n",
       "      <td>Probable Cause</td>\n",
       "      <td>16-04-1980</td>\n",
       "    </tr>\n",
       "  </tbody>\n",
       "</table>\n",
       "<p>5 rows × 31 columns</p>\n",
       "</div>"
      ],
      "text/plain": [
       "         Event.Id Investigation.Type Accident.Number  Event.Date  \\\n",
       "0  20001218X45444           Accident      SEA87LA080  1948-10-24   \n",
       "1  20001218X45447           Accident      LAX94LA336  1962-07-19   \n",
       "2  20061025X01555           Accident      NYC07LA005  1974-08-30   \n",
       "3  20001218X45448           Accident      LAX96LA321  1977-06-19   \n",
       "4  20041105X01764           Accident      CHI79FA064  1979-08-02   \n",
       "\n",
       "          Location        Country   Latitude   Longitude Airport.Code  \\\n",
       "0  MOOSE CREEK, ID  United States        NaN         NaN          NaN   \n",
       "1   BRIDGEPORT, CA  United States        NaN         NaN          NaN   \n",
       "2    Saltville, VA  United States  36.922223  -81.878056          NaN   \n",
       "3       EUREKA, CA  United States        NaN         NaN          NaN   \n",
       "4       Canton, OH  United States        NaN         NaN          NaN   \n",
       "\n",
       "  Airport.Name  ... Purpose.of.flight Air.carrier Total.Fatal.Injuries  \\\n",
       "0          NaN  ...          Personal         NaN                  2.0   \n",
       "1          NaN  ...          Personal         NaN                  4.0   \n",
       "2          NaN  ...          Personal         NaN                  3.0   \n",
       "3          NaN  ...          Personal         NaN                  2.0   \n",
       "4          NaN  ...          Personal         NaN                  1.0   \n",
       "\n",
       "  Total.Serious.Injuries Total.Minor.Injuries Total.Uninjured  \\\n",
       "0                    0.0                  0.0             0.0   \n",
       "1                    0.0                  0.0             0.0   \n",
       "2                    NaN                  NaN             NaN   \n",
       "3                    0.0                  0.0             0.0   \n",
       "4                    2.0                  NaN             0.0   \n",
       "\n",
       "  Weather.Condition  Broad.phase.of.flight   Report.Status Publication.Date  \n",
       "0               UNK                 Cruise  Probable Cause              NaN  \n",
       "1               UNK                Unknown  Probable Cause       19-09-1996  \n",
       "2               IMC                 Cruise  Probable Cause       26-02-2007  \n",
       "3               IMC                 Cruise  Probable Cause       12-09-2000  \n",
       "4               VMC               Approach  Probable Cause       16-04-1980  \n",
       "\n",
       "[5 rows x 31 columns]"
      ]
     },
     "execution_count": 205,
     "metadata": {},
     "output_type": "execute_result"
    }
   ],
   "source": [
    "# Preview data\n",
    "df.head()"
   ]
  },
  {
   "cell_type": "code",
   "execution_count": 206,
   "metadata": {},
   "outputs": [
    {
     "data": {
      "text/plain": [
       "(90348, 31)"
      ]
     },
     "execution_count": 206,
     "metadata": {},
     "output_type": "execute_result"
    }
   ],
   "source": [
    "# row and columns\n",
    "df.shape"
   ]
  },
  {
   "cell_type": "code",
   "execution_count": 207,
   "metadata": {},
   "outputs": [
    {
     "data": {
      "text/html": [
       "<div>\n",
       "<style scoped>\n",
       "    .dataframe tbody tr th:only-of-type {\n",
       "        vertical-align: middle;\n",
       "    }\n",
       "\n",
       "    .dataframe tbody tr th {\n",
       "        vertical-align: top;\n",
       "    }\n",
       "\n",
       "    .dataframe thead th {\n",
       "        text-align: right;\n",
       "    }\n",
       "</style>\n",
       "<table border=\"1\" class=\"dataframe\">\n",
       "  <thead>\n",
       "    <tr style=\"text-align: right;\">\n",
       "      <th></th>\n",
       "      <th>Number.of.Engines</th>\n",
       "      <th>Total.Fatal.Injuries</th>\n",
       "      <th>Total.Serious.Injuries</th>\n",
       "      <th>Total.Minor.Injuries</th>\n",
       "      <th>Total.Uninjured</th>\n",
       "    </tr>\n",
       "  </thead>\n",
       "  <tbody>\n",
       "    <tr>\n",
       "      <th>count</th>\n",
       "      <td>82805.000000</td>\n",
       "      <td>77488.000000</td>\n",
       "      <td>76379.000000</td>\n",
       "      <td>76956.000000</td>\n",
       "      <td>82977.000000</td>\n",
       "    </tr>\n",
       "    <tr>\n",
       "      <th>mean</th>\n",
       "      <td>1.146585</td>\n",
       "      <td>0.647855</td>\n",
       "      <td>0.279881</td>\n",
       "      <td>0.357061</td>\n",
       "      <td>5.325440</td>\n",
       "    </tr>\n",
       "    <tr>\n",
       "      <th>std</th>\n",
       "      <td>0.446510</td>\n",
       "      <td>5.485960</td>\n",
       "      <td>1.544084</td>\n",
       "      <td>2.235625</td>\n",
       "      <td>27.913634</td>\n",
       "    </tr>\n",
       "    <tr>\n",
       "      <th>min</th>\n",
       "      <td>0.000000</td>\n",
       "      <td>0.000000</td>\n",
       "      <td>0.000000</td>\n",
       "      <td>0.000000</td>\n",
       "      <td>0.000000</td>\n",
       "    </tr>\n",
       "    <tr>\n",
       "      <th>25%</th>\n",
       "      <td>1.000000</td>\n",
       "      <td>0.000000</td>\n",
       "      <td>0.000000</td>\n",
       "      <td>0.000000</td>\n",
       "      <td>0.000000</td>\n",
       "    </tr>\n",
       "    <tr>\n",
       "      <th>50%</th>\n",
       "      <td>1.000000</td>\n",
       "      <td>0.000000</td>\n",
       "      <td>0.000000</td>\n",
       "      <td>0.000000</td>\n",
       "      <td>1.000000</td>\n",
       "    </tr>\n",
       "    <tr>\n",
       "      <th>75%</th>\n",
       "      <td>1.000000</td>\n",
       "      <td>0.000000</td>\n",
       "      <td>0.000000</td>\n",
       "      <td>0.000000</td>\n",
       "      <td>2.000000</td>\n",
       "    </tr>\n",
       "    <tr>\n",
       "      <th>max</th>\n",
       "      <td>8.000000</td>\n",
       "      <td>349.000000</td>\n",
       "      <td>161.000000</td>\n",
       "      <td>380.000000</td>\n",
       "      <td>699.000000</td>\n",
       "    </tr>\n",
       "  </tbody>\n",
       "</table>\n",
       "</div>"
      ],
      "text/plain": [
       "       Number.of.Engines  Total.Fatal.Injuries  Total.Serious.Injuries  \\\n",
       "count       82805.000000          77488.000000            76379.000000   \n",
       "mean            1.146585              0.647855                0.279881   \n",
       "std             0.446510              5.485960                1.544084   \n",
       "min             0.000000              0.000000                0.000000   \n",
       "25%             1.000000              0.000000                0.000000   \n",
       "50%             1.000000              0.000000                0.000000   \n",
       "75%             1.000000              0.000000                0.000000   \n",
       "max             8.000000            349.000000              161.000000   \n",
       "\n",
       "       Total.Minor.Injuries  Total.Uninjured  \n",
       "count          76956.000000     82977.000000  \n",
       "mean               0.357061         5.325440  \n",
       "std                2.235625        27.913634  \n",
       "min                0.000000         0.000000  \n",
       "25%                0.000000         0.000000  \n",
       "50%                0.000000         1.000000  \n",
       "75%                0.000000         2.000000  \n",
       "max              380.000000       699.000000  "
      ]
     },
     "execution_count": 207,
     "metadata": {},
     "output_type": "execute_result"
    }
   ],
   "source": [
    "# Statistics summary for numeric columns\n",
    "df.describe()"
   ]
  },
  {
   "cell_type": "code",
   "execution_count": 208,
   "metadata": {},
   "outputs": [
    {
     "data": {
      "text/plain": [
       "['Event.Id',\n",
       " 'Investigation.Type',\n",
       " 'Accident.Number',\n",
       " 'Event.Date',\n",
       " 'Location',\n",
       " 'Country',\n",
       " 'Latitude',\n",
       " 'Longitude',\n",
       " 'Airport.Code',\n",
       " 'Airport.Name',\n",
       " 'Injury.Severity',\n",
       " 'Aircraft.damage',\n",
       " 'Aircraft.Category',\n",
       " 'Registration.Number',\n",
       " 'Make',\n",
       " 'Model',\n",
       " 'Amateur.Built',\n",
       " 'Number.of.Engines',\n",
       " 'Engine.Type',\n",
       " 'FAR.Description',\n",
       " 'Schedule',\n",
       " 'Purpose.of.flight',\n",
       " 'Air.carrier',\n",
       " 'Total.Fatal.Injuries',\n",
       " 'Total.Serious.Injuries',\n",
       " 'Total.Minor.Injuries',\n",
       " 'Total.Uninjured',\n",
       " 'Weather.Condition',\n",
       " 'Broad.phase.of.flight',\n",
       " 'Report.Status',\n",
       " 'Publication.Date']"
      ]
     },
     "execution_count": 208,
     "metadata": {},
     "output_type": "execute_result"
    }
   ],
   "source": [
    "# columns\n",
    "df.columns.tolist()\n"
   ]
  },
  {
   "cell_type": "markdown",
   "metadata": {},
   "source": [
    "### 3. Data Preparation Explanation\r",
    "We begin by renaming columns to improve readability and converting the accident dates into a proper datetime format. To ensure data quality for analysis, we remove rows that are missing critical information such as aircraft type, manufacturer, or accident date. After cleaning the data, we extract the accident year to analyze trends over time.."
   ]
  },
  {
   "cell_type": "code",
   "execution_count": 209,
   "metadata": {},
   "outputs": [],
   "source": [
    "# Rename columns for clarity\n",
    "df.rename(columns={\n",
    "   'Model': 'Aircraft_Type',\n",
    "    'Make': 'Manufacturer',\n",
    "    'Event.Date': 'Accident_Date',\n",
    "    'Injury.Severity': 'Accident_Severity'\n",
    "}, inplace=True)"
   ]
  },
  {
   "cell_type": "code",
   "execution_count": 210,
   "metadata": {},
   "outputs": [],
   "source": [
    "# Convert Accident_Date to datetime\n",
    "df['Accident_Date'] = pd.to_datetime(df['Accident_Date'], errors='coerce')"
   ]
  },
  {
   "cell_type": "code",
   "execution_count": 211,
   "metadata": {},
   "outputs": [
    {
     "data": {
      "text/plain": [
       "count                            88889\n",
       "mean     1999-09-17 17:13:39.354476032\n",
       "min                1948-10-24 00:00:00\n",
       "25%                1989-01-15 00:00:00\n",
       "50%                1998-07-18 00:00:00\n",
       "75%                2009-07-01 00:00:00\n",
       "max                2022-12-29 00:00:00\n",
       "Name: Accident_Date, dtype: object"
      ]
     },
     "execution_count": 211,
     "metadata": {},
     "output_type": "execute_result"
    }
   ],
   "source": [
    "# Summary (min, max, mean, etc.)\n",
    "df['Accident_Date'].describe()"
   ]
  },
  {
   "cell_type": "code",
   "execution_count": 212,
   "metadata": {},
   "outputs": [
    {
     "name": "stdout",
     "output_type": "stream",
     "text": [
      "      Event.Id Investigation.Type Accident.Number Accident_Date Location  \\\n",
      "64030      NaN         25-09-2020             NaN           NaT      NaN   \n",
      "64050      NaN         25-09-2020             NaN           NaT      NaN   \n",
      "64052      NaN         25-09-2020             NaN           NaT      NaN   \n",
      "64388      NaN         25-09-2020             NaN           NaT      NaN   \n",
      "64541      NaN         25-09-2020             NaN           NaT      NaN   \n",
      "...        ...                ...             ...           ...      ...   \n",
      "90004      NaN         15-12-2022             NaN           NaT      NaN   \n",
      "90010      NaN         15-12-2022             NaN           NaT      NaN   \n",
      "90031      NaN         15-12-2022             NaN           NaT      NaN   \n",
      "90090      NaN         20-12-2022             NaN           NaT      NaN   \n",
      "90097      NaN         20-12-2022             NaN           NaT      NaN   \n",
      "\n",
      "      Country Latitude Longitude Airport.Code Airport.Name  ...  \\\n",
      "64030     NaN      NaN       NaN          NaN          NaN  ...   \n",
      "64050     NaN      NaN       NaN          NaN          NaN  ...   \n",
      "64052     NaN      NaN       NaN          NaN          NaN  ...   \n",
      "64388     NaN      NaN       NaN          NaN          NaN  ...   \n",
      "64541     NaN      NaN       NaN          NaN          NaN  ...   \n",
      "...       ...      ...       ...          ...          ...  ...   \n",
      "90004     NaN      NaN       NaN          NaN          NaN  ...   \n",
      "90010     NaN      NaN       NaN          NaN          NaN  ...   \n",
      "90031     NaN      NaN       NaN          NaN          NaN  ...   \n",
      "90090     NaN      NaN       NaN          NaN          NaN  ...   \n",
      "90097     NaN      NaN       NaN          NaN          NaN  ...   \n",
      "\n",
      "      Purpose.of.flight Air.carrier Total.Fatal.Injuries  \\\n",
      "64030               NaN         NaN                  NaN   \n",
      "64050               NaN         NaN                  NaN   \n",
      "64052               NaN         NaN                  NaN   \n",
      "64388               NaN         NaN                  NaN   \n",
      "64541               NaN         NaN                  NaN   \n",
      "...                 ...         ...                  ...   \n",
      "90004               NaN         NaN                  NaN   \n",
      "90010               NaN         NaN                  NaN   \n",
      "90031               NaN         NaN                  NaN   \n",
      "90090               NaN         NaN                  NaN   \n",
      "90097               NaN         NaN                  NaN   \n",
      "\n",
      "      Total.Serious.Injuries Total.Minor.Injuries Total.Uninjured  \\\n",
      "64030                    NaN                  NaN             NaN   \n",
      "64050                    NaN                  NaN             NaN   \n",
      "64052                    NaN                  NaN             NaN   \n",
      "64388                    NaN                  NaN             NaN   \n",
      "64541                    NaN                  NaN             NaN   \n",
      "...                      ...                  ...             ...   \n",
      "90004                    NaN                  NaN             NaN   \n",
      "90010                    NaN                  NaN             NaN   \n",
      "90031                    NaN                  NaN             NaN   \n",
      "90090                    NaN                  NaN             NaN   \n",
      "90097                    NaN                  NaN             NaN   \n",
      "\n",
      "      Weather.Condition  Broad.phase.of.flight Report.Status Publication.Date  \n",
      "64030               NaN                    NaN           NaN              NaN  \n",
      "64050               NaN                    NaN           NaN              NaN  \n",
      "64052               NaN                    NaN           NaN              NaN  \n",
      "64388               NaN                    NaN           NaN              NaN  \n",
      "64541               NaN                    NaN           NaN              NaN  \n",
      "...                 ...                    ...           ...              ...  \n",
      "90004               NaN                    NaN           NaN              NaN  \n",
      "90010               NaN                    NaN           NaN              NaN  \n",
      "90031               NaN                    NaN           NaN              NaN  \n",
      "90090               NaN                    NaN           NaN              NaN  \n",
      "90097               NaN                    NaN           NaN              NaN  \n",
      "\n",
      "[1459 rows x 31 columns]\n"
     ]
    }
   ],
   "source": [
    "# See rows with invalid dates\n",
    "missing_dates = df[df['Accident_Date'].isna()]\n",
    "print(missing_dates)"
   ]
  },
  {
   "cell_type": "markdown",
   "metadata": {},
   "source": [
    "#### 3.1 Drop rows with missing critical info"
   ]
  },
  {
   "cell_type": "code",
   "execution_count": 213,
   "metadata": {},
   "outputs": [],
   "source": [
    "# Step 1: Drop rows with missing critical information\n",
    "df_clean = df.dropna(subset=['Aircraft_Type', 'Manufacturer', 'Accident_Date']).copy()\n",
    "\n",
    "# Step 2: Filter out rows where 'Purpose.of.flight' is '0' or 'Unknown'\n",
    "df_clean = df_clean[~df_clean['Purpose.of.flight'].isin(['0', 'Unknown'])]\n",
    "\n",
    "# Step 3: Ensure 'Engine.Type' is a string and strip spaces\n",
    "df_clean['Engine.Type'] = df_clean['Engine.Type'].astype(str).str.strip()\n",
    "\n",
    "# Step 4: Filter out rows where 'Engine.Type' is '0', 'Unknown', or 'nan'\n",
    "df_clean = df_clean[~df_clean['Engine.Type'].isin(['0', 'Unknown', 'nan'])]\n"
   ]
  },
  {
   "cell_type": "markdown",
   "metadata": {},
   "source": [
    "#### 3.2 Confirming if the cleaning worked"
   ]
  },
  {
   "cell_type": "code",
   "execution_count": 214,
   "metadata": {},
   "outputs": [
    {
     "name": "stdout",
     "output_type": "stream",
     "text": [
      "Aircraft_Type    0\n",
      "Manufacturer     0\n",
      "Accident_Date    0\n",
      "dtype: int64\n"
     ]
    }
   ],
   "source": [
    "print(df_clean[['Aircraft_Type', 'Manufacturer', 'Accident_Date']].isna().sum())"
   ]
  },
  {
   "cell_type": "markdown",
   "metadata": {},
   "source": [
    "#### 3.3 Check number of rows before/after cleaning"
   ]
  },
  {
   "cell_type": "code",
   "execution_count": 215,
   "metadata": {},
   "outputs": [
    {
     "data": {
      "text/plain": [
       "'Before cleaning: 90348 rows'"
      ]
     },
     "execution_count": 215,
     "metadata": {},
     "output_type": "execute_result"
    }
   ],
   "source": [
    "f\"Before cleaning: {len(df)} rows\""
   ]
  },
  {
   "cell_type": "code",
   "execution_count": 216,
   "metadata": {},
   "outputs": [
    {
     "data": {
      "text/plain": [
       "'After cleaning: 73719 rows'"
      ]
     },
     "execution_count": 216,
     "metadata": {},
     "output_type": "execute_result"
    }
   ],
   "source": [
    "f\"After cleaning: {len(df_clean)} rows\""
   ]
  },
  {
   "cell_type": "code",
   "execution_count": 217,
   "metadata": {},
   "outputs": [
    {
     "data": {
      "text/plain": [
       "0   1948-10-24\n",
       "1   1962-07-19\n",
       "2   1974-08-30\n",
       "3   1977-06-19\n",
       "5   1979-09-17\n",
       "Name: Accident_Date, dtype: datetime64[ns]"
      ]
     },
     "execution_count": 217,
     "metadata": {},
     "output_type": "execute_result"
    }
   ],
   "source": [
    "# See first 5 values\n",
    "df_clean['Accident_Date'].head()"
   ]
  },
  {
   "cell_type": "markdown",
   "metadata": {},
   "source": [
    "#### 3.4 Extracting year for trend analysis"
   ]
  },
  {
   "cell_type": "code",
   "execution_count": 218,
   "metadata": {},
   "outputs": [],
   "source": [
    "df_clean['Year'] = df_clean['Accident_Date'].dt.year"
   ]
  },
  {
   "cell_type": "code",
   "execution_count": 219,
   "metadata": {},
   "outputs": [
    {
     "data": {
      "text/html": [
       "<div>\n",
       "<style scoped>\n",
       "    .dataframe tbody tr th:only-of-type {\n",
       "        vertical-align: middle;\n",
       "    }\n",
       "\n",
       "    .dataframe tbody tr th {\n",
       "        vertical-align: top;\n",
       "    }\n",
       "\n",
       "    .dataframe thead th {\n",
       "        text-align: right;\n",
       "    }\n",
       "</style>\n",
       "<table border=\"1\" class=\"dataframe\">\n",
       "  <thead>\n",
       "    <tr style=\"text-align: right;\">\n",
       "      <th></th>\n",
       "      <th>Accident_Date</th>\n",
       "      <th>Year</th>\n",
       "    </tr>\n",
       "  </thead>\n",
       "  <tbody>\n",
       "    <tr>\n",
       "      <th>0</th>\n",
       "      <td>1948-10-24</td>\n",
       "      <td>1948</td>\n",
       "    </tr>\n",
       "    <tr>\n",
       "      <th>1</th>\n",
       "      <td>1962-07-19</td>\n",
       "      <td>1962</td>\n",
       "    </tr>\n",
       "    <tr>\n",
       "      <th>2</th>\n",
       "      <td>1974-08-30</td>\n",
       "      <td>1974</td>\n",
       "    </tr>\n",
       "    <tr>\n",
       "      <th>3</th>\n",
       "      <td>1977-06-19</td>\n",
       "      <td>1977</td>\n",
       "    </tr>\n",
       "    <tr>\n",
       "      <th>5</th>\n",
       "      <td>1979-09-17</td>\n",
       "      <td>1979</td>\n",
       "    </tr>\n",
       "  </tbody>\n",
       "</table>\n",
       "</div>"
      ],
      "text/plain": [
       "  Accident_Date  Year\n",
       "0    1948-10-24  1948\n",
       "1    1962-07-19  1962\n",
       "2    1974-08-30  1974\n",
       "3    1977-06-19  1977\n",
       "5    1979-09-17  1979"
      ]
     },
     "execution_count": 219,
     "metadata": {},
     "output_type": "execute_result"
    }
   ],
   "source": [
    "df_clean.head()[[\"Accident_Date\", \"Year\"]]"
   ]
  },
  {
   "cell_type": "code",
   "execution_count": 220,
   "metadata": {},
   "outputs": [
    {
     "data": {
      "text/plain": [
       "Aircraft_Type\n",
       "152                2301\n",
       "172                1590\n",
       "172N               1118\n",
       "PA-28-140           889\n",
       "150                 775\n",
       "                   ... \n",
       "727-51C               1\n",
       "PC-6-350              1\n",
       "POBER SUPER ACE       1\n",
       "T34B                  1\n",
       "MS-500                1\n",
       "Name: count, Length: 9953, dtype: int64"
      ]
     },
     "execution_count": 220,
     "metadata": {},
     "output_type": "execute_result"
    }
   ],
   "source": [
    "# Accident counts by aircraft type\n",
    "\n",
    "accidents_by_type = df_clean['Aircraft_Type'].value_counts()\n",
    "accidents_by_type"
   ]
  },
  {
   "cell_type": "code",
   "execution_count": 221,
   "metadata": {},
   "outputs": [
    {
     "data": {
      "text/plain": [
       "Manufacturer\n",
       "Cessna                     20398\n",
       "Piper                      11070\n",
       "CESSNA                      3949\n",
       "Beech                       3767\n",
       "PIPER                       2313\n",
       "                           ...  \n",
       "Meshko Zenair                  1\n",
       "Ascher                         1\n",
       "Bartels                        1\n",
       "Schneider, Edmund, Pty.        1\n",
       "STEPHEN J HOFFMAN              1\n",
       "Name: count, Length: 7360, dtype: int64"
      ]
     },
     "execution_count": 221,
     "metadata": {},
     "output_type": "execute_result"
    }
   ],
   "source": [
    "# Accident counts by manufacturer\n",
    "accidents_by_manufacturer = df_clean['Manufacturer'].value_counts()\n",
    "accidents_by_manufacturer"
   ]
  },
  {
   "cell_type": "code",
   "execution_count": 222,
   "metadata": {},
   "outputs": [
    {
     "data": {
      "text/plain": [
       "Year\n",
       "1948       1\n",
       "1962       1\n",
       "1974       1\n",
       "1977       1\n",
       "1979       1\n",
       "1981       1\n",
       "1982    2870\n",
       "1983    3062\n",
       "1984    2998\n",
       "1985    2669\n",
       "1986    2485\n",
       "1987    2428\n",
       "1988    2329\n",
       "1989    2163\n",
       "1990    2151\n",
       "1991    2150\n",
       "1992    2002\n",
       "1993    1975\n",
       "1994    1882\n",
       "1995    1966\n",
       "1996    1791\n",
       "1997    1701\n",
       "1998    1811\n",
       "1999    1842\n",
       "2000    1788\n",
       "2001    1843\n",
       "2002    1838\n",
       "2003    1889\n",
       "2004    1727\n",
       "2005    1817\n",
       "2006    1615\n",
       "2007    1765\n",
       "2008    1663\n",
       "2009    1597\n",
       "2010    1571\n",
       "2011    1629\n",
       "2012    1605\n",
       "2013    1342\n",
       "2014    1331\n",
       "2015    1341\n",
       "2016    1412\n",
       "2017    1391\n",
       "2018    1386\n",
       "2019    1262\n",
       "2020     883\n",
       "2021     323\n",
       "2022     420\n",
       "dtype: int64"
      ]
     },
     "execution_count": 222,
     "metadata": {},
     "output_type": "execute_result"
    }
   ],
   "source": [
    "# Accident trend over years\n",
    "accidents_per_year = df_clean.groupby('Year').size()\n",
    "accidents_per_year"
   ]
  },
  {
   "cell_type": "code",
   "execution_count": 223,
   "metadata": {},
   "outputs": [
    {
     "data": {
      "text/plain": [
       "Accident_Severity\n",
       "Non-Fatal      58822\n",
       "Fatal(1)        5227\n",
       "Fatal           3450\n",
       "Fatal(2)        3248\n",
       "Fatal(3)         935\n",
       "Incident         750\n",
       "Fatal(4)         645\n",
       "Fatal(5)         163\n",
       "Fatal(6)         102\n",
       "Minor             71\n",
       "Serious           30\n",
       "Fatal(7)          29\n",
       "Fatal(8)          18\n",
       "Fatal(10)         10\n",
       "Fatal(9)           4\n",
       "Fatal(12)          3\n",
       "Unavailable        3\n",
       "Fatal(14)          3\n",
       "Fatal(17)          2\n",
       "Fatal(92)          2\n",
       "Fatal(20)          2\n",
       "Fatal(16)          1\n",
       "Fatal(13)          1\n",
       "Fatal(82)          1\n",
       "Fatal(49)          1\n",
       "Fatal(113)         1\n",
       "Fatal(107)         1\n",
       "Fatal(21)          1\n",
       "Fatal(27)          1\n",
       "Fatal(265)         1\n",
       "Fatal(11)          1\n",
       "Fatal(18)          1\n",
       "Fatal(60)          1\n",
       "Fatal(19)          1\n",
       "Fatal(65)          1\n",
       "Name: count, dtype: int64"
      ]
     },
     "execution_count": 223,
     "metadata": {},
     "output_type": "execute_result"
    }
   ],
   "source": [
    "# Accident severity distribution\n",
    "severity_counts = df_clean['Accident_Severity'].value_counts()\n",
    "severity_counts"
   ]
  },
  {
   "cell_type": "markdown",
   "metadata": {},
   "source": [
    "### 5. Visualization"
   ]
  },
  {
   "cell_type": "code",
   "execution_count": 224,
   "metadata": {},
   "outputs": [],
   "source": [
    "import matplotlib.pyplot as plt\n",
    "import seaborn as sns\n",
    "import numpy as np\n",
    "\n",
    "%matplotlib inline\n"
   ]
  },
  {
   "cell_type": "markdown",
   "metadata": {},
   "source": [
    "### Line chart: Accidents Over Time\r\n",
    "The trend in the number of aircraft accidents from 1962 to 2023will  shos a significant increase around the early 1980s, followed by a steady decline over subsequent decades. This decline suggests improvements in aviation safety, technology, regulations, and pilot training over time. Although there are minor fluctuations, the overall reduction in accident counts indicates progress toward safer air travel."
   ]
  },
  {
   "cell_type": "code",
   "execution_count": 225,
   "metadata": {},
   "outputs": [
    {
     "data": {
      "image/png": "[encoded data removed]",
      "text/plain": [
       "<Figure size 1200x600 with 1 Axes>"
      ]
     },
     "metadata": {},
     "output_type": "display_data"
    }
   ],
   "source": [
    "# Line chart: Accidents Over Time\n",
    "\n",
    "plt.figure(figsize=(12,6))\n",
    "sns.lineplot(x=accidents_per_year.index, y=accidents_per_year.values)\n",
    "plt.title('Number of Accidents Over Time (1962-2023)')\n",
    "plt.xlabel('Year')\n",
    "plt.ylabel('Number of Accidents')\n",
    "plt.tight_layout()\n",
    "plt.show()"
   ]
  },
  {
   "cell_type": "markdown",
   "metadata": {},
   "source": [
    "### Bar chart: Accident Counts by Manufacturer (Top 10)\n",
    "The chart shows that Cessna and Piper are the manufacturers with the highest number of accidents, significantly surpassing other manufacturers. This likely reflects their widespread use in general aviation, where smaller aircraft are more common. While Boeing appears in the top 10, its accident count is much lower compared to Cessna and Piper. This data can guide targeted safety improvements and risk assessments by manufacturer."
   ]
  },
  {
   "cell_type": "code",
   "execution_count": 226,
   "metadata": {},
   "outputs": [
    {
     "data": {
      "image/png": "[encoded data removed]",
      "text/plain": [
       "<Figure size 1200x600 with 1 Axes>"
      ]
     },
     "metadata": {},
     "output_type": "display_data"
    }
   ],
   "source": [
    "# Bar chart: Accident Counts by Manufacturer (Top 10)\n",
    "plt.figure(figsize=(12,6))\n",
    "sns.barplot(x=accidents_by_manufacturer.index[:10], y=accidents_by_manufacturer.values[:10], palette='Greens_d')\n",
    "plt.title('Top 10 Manufacturers by Accident Count')\n",
    "plt.xlabel('Manufacturer')\n",
    "plt.ylabel('Number of Accidents')\n",
    "plt.xticks(rotation=45)\n",
    "plt.tight_layout()\n",
    "plt.show()"
   ]
  },
  {
   "cell_type": "markdown",
   "metadata": {},
   "source": [
    "### Bar chart: Count of accidents per flight phase\n",
    "The bar chart reveals the distribution of accidents across different phases of flight. Certain flight phases exhibit notably higher accident counts, indicating these stages may pose greater risks. This insight highlights the need for focused safety measures and training during these critical phases to reduce accident rates and improve overall flight safety."
   ]
  },
  {
   "cell_type": "code",
   "execution_count": 227,
   "metadata": {},
   "outputs": [
    {
     "data": {
      "image/png": "[encoded data removed]",
      "text/plain": [
       "<Figure size 1200x600 with 1 Axes>"
      ]
     },
     "metadata": {},
     "output_type": "display_data"
    }
   ],
   "source": [
    "plt.figure(figsize=(12, 6))\n",
    "\n",
    "# Count of accidents per flight phase\n",
    "flight_phase_accidents = df_clean['Broad.phase.of.flight'].value_counts().reset_index()\n",
    "flight_phase_accidents.columns = ['Flight Phase', 'Accident Count']\n",
    "\n",
    "# Plot\n",
    "sns.barplot(x='Accident Count', y='Flight Phase', data=flight_phase_accidents, palette='magma')\n",
    "\n",
    "# Labels & Title\n",
    "plt.xlabel('Number of Accidents')\n",
    "plt.ylabel('Flight Phase')\n",
    "plt.title('Accidents by Flight Phase')\n",
    "plt.grid(axis='x', linestyle='--', alpha=0.7)\n",
    "\n",
    "plt.show()"
   ]
  },
  {
   "cell_type": "code",
   "execution_count": 228,
   "metadata": {},
   "outputs": [],
   "source": [
    "df_clean.to_csv('cleaned_dataframe.csv', index=False)\n",
    "\n"
   ]
  },
  {
   "cell_type": "markdown",
   "metadata": {},
   "source": [
    "### Conclusion\n",
    "This project provides a comprehensive analysis of aircraft accident data to assess aviation safety risks. Key findings reveal that certain aircraft types and manufacturers, such as Cessna and Piper, account for a higher number of accidents likely due to their extensive use in general aviation. Over time, accident trends show a significant decline, indicating improvements in safety practices, technology, and regulation. \n",
    "\n",
    "Additionally, accident distribution across flight phases highlights critical stages where incidents are more likely to occur, emphasizing the need for targeted safety measures. These insights collectively support informed, data-driven decisions as the company prepares to enter the aviation market."
   ]
  },
  {
   "cell_type": "markdown",
   "metadata": {},
   "source": [
    "### Next Steps\r\n",
    "\r\n",
    "Future work could include:\r\n",
    "- Developing predictive models to forecast aircraft risk based on additional factors.\r\n",
    "- Incorporating maintenance and operational data to refine risk assessments.\r\n",
    "- Expanding the dashboard to include real-time data updates and alerts.\r\n",
    "\r\n"
   ]
  }
 ],
 "metadata": {
  "kernelspec": {
   "display_name": "Python [conda env:base] *",
   "language": "python",
   "name": "conda-base-py"
  },
  "language_info": {
   "codemirror_mode": {
    "name": "ipython",
    "version": 3
   },
   "file_extension": ".py",
   "mimetype": "text/x-python",
   "name": "python",
   "nbconvert_exporter": "python",
   "pygments_lexer": "ipython3",
   "version": "3.11.7"
  }
 },
 "nbformat": 4,
 "nbformat_minor": 4
}
